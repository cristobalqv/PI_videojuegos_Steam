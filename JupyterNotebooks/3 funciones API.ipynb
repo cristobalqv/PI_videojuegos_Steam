{
 "cells": [
  {
   "cell_type": "code",
   "execution_count": null,
   "metadata": {},
   "outputs": [],
   "source": [
    "# CREANDO LAS FUNCIONES PARA LA API"
   ]
  },
  {
   "cell_type": "code",
   "execution_count": 1,
   "metadata": {},
   "outputs": [],
   "source": [
    "import pandas as pd\n",
    "import warnings\n",
    "warnings.filterwarnings(\"ignore\")"
   ]
  },
  {
   "cell_type": "code",
   "execution_count": 2,
   "metadata": {},
   "outputs": [],
   "source": [
    "# Carga de datasets\n",
    "\n",
    "# Se cargan los dataframes para llevar a cabo las consultas solicitadas en el readme del proyecto\n",
    "\n",
    "#dfreviews_unido: contiene la información de los reviews de usuario para cada juego en formato de análisis de sentimientos. Además, están las recomendaciones o no del juego por parte de usuario, la fecha del review y sus datos (id, url)\n",
    "\n",
    "#df_gastos_items: cantidad de items que consumidos por usuario y el precio de cada uno de los juegos que consume.\n",
    "\n",
    "# dfdesarrolladores_recomendados: contiene un desarrollador y calcula cuantos analisis de sentimiento positivos y negativos tiene\n",
    "\n",
    "#df_playtime_forever: la identificacion del usuario, su url, y la cantidad de horas jugadas por genero.\n",
    "\n",
    "#df_items_developer: contiene la información relacionada con cada item de juegos como id, precio, desarrollador y año de lanzamiento."
   ]
  },
  {
   "cell_type": "code",
   "execution_count": 3,
   "metadata": {},
   "outputs": [],
   "source": [
    "df_items_developer = pd.read_csv('C:\\\\Users\\\\cquir\\\\OneDrive\\\\Escritorio\\\\Data Science SH\\\\Proyecto Individual 1\\\\bases de datos\\\\df_items_developer_unido.csv')\n",
    "\n",
    "df_reviews = pd.read_csv('C:\\\\Users\\\\cquir\\\\OneDrive\\\\Escritorio\\\\Data Science SH\\\\Proyecto Individual 1\\\\bases de datos\\\\dfreviews_unido.csv')\n",
    "\n",
    "df_gastos_items = pd.read_csv('C:\\\\Users\\\\cquir\\\\OneDrive\\\\Escritorio\\\\Data Science SH\\\\Proyecto Individual 1\\\\bases de datos\\\\df_gastos_items_unido.csv')\n",
    "\n",
    "dfdesarrolladores_recomendados = pd.read_csv('C:\\\\Users\\\\cquir\\\\OneDrive\\\\Escritorio\\\\Data Science SH\\\\Proyecto Individual 1\\\\bases de datos\\\\dfdesarrolladores_recomendados_unido.csv')\n",
    "\n",
    "df_playtime_forever = pd.read_csv('C:\\\\Users\\\\cquir\\\\OneDrive\\\\Escritorio\\\\Data Science SH\\\\Proyecto Individual 1\\\\bases de datos\\\\df_playtime_forever_unido.csv')"
   ]
  },
  {
   "cell_type": "code",
   "execution_count": null,
   "metadata": {},
   "outputs": [],
   "source": []
  },
  {
   "cell_type": "code",
   "execution_count": 4,
   "metadata": {},
   "outputs": [],
   "source": [
    "# FUNCION DEVELOPER\n",
    "\n",
    "#Cantidad de items y porcentaje de contenido Free por año según empresa desarrolladora. \n",
    "\n",
    "def developer(desarrollador):\n",
    "    empresa_desarrolladora = df_items_developer[df_items_developer['developer'] == desarrollador]\n",
    "    # Cantidad de items por año\n",
    "    items_por_año = empresa_desarrolladora.groupby('anio_lanzamiento')['item_id'].count()\n",
    "    # Cantidad de elementos gratis por año\n",
    "    contenido_free = empresa_desarrolladora[empresa_desarrolladora['price']==0.00].groupby('anio_lanzamiento')['item_id'].count()\n",
    "    # Porcentaje items gratis por año\n",
    "    porcentaje_gratis = ((contenido_free/items_por_año)*100).fillna(0).astype(int)\n",
    "\n",
    "    result_dict = {'Cantidad anual': items_por_año.to_dict(),\n",
    "                   'Porcentaje de juegos que son gratis': porcentaje_gratis.to_dict()}\n",
    "    \n",
    "    tabla = pd.DataFrame(result_dict)\n",
    "    \n",
    "    return tabla"
   ]
  },
  {
   "cell_type": "code",
   "execution_count": 7,
   "metadata": {},
   "outputs": [
    {
     "data": {
      "text/html": [
       "<div>\n",
       "<style scoped>\n",
       "    .dataframe tbody tr th:only-of-type {\n",
       "        vertical-align: middle;\n",
       "    }\n",
       "\n",
       "    .dataframe tbody tr th {\n",
       "        vertical-align: top;\n",
       "    }\n",
       "\n",
       "    .dataframe thead th {\n",
       "        text-align: right;\n",
       "    }\n",
       "</style>\n",
       "<table border=\"1\" class=\"dataframe\">\n",
       "  <thead>\n",
       "    <tr style=\"text-align: right;\">\n",
       "      <th></th>\n",
       "      <th>Cantidad anual</th>\n",
       "      <th>Porcentaje de juegos que son gratis</th>\n",
       "    </tr>\n",
       "  </thead>\n",
       "  <tbody>\n",
       "    <tr>\n",
       "      <th>2003</th>\n",
       "      <td>2</td>\n",
       "      <td>0</td>\n",
       "    </tr>\n",
       "    <tr>\n",
       "      <th>2004</th>\n",
       "      <td>1</td>\n",
       "      <td>0</td>\n",
       "    </tr>\n",
       "    <tr>\n",
       "      <th>2005</th>\n",
       "      <td>1</td>\n",
       "      <td>0</td>\n",
       "    </tr>\n",
       "    <tr>\n",
       "      <th>2007</th>\n",
       "      <td>2</td>\n",
       "      <td>0</td>\n",
       "    </tr>\n",
       "    <tr>\n",
       "      <th>2010</th>\n",
       "      <td>1</td>\n",
       "      <td>0</td>\n",
       "    </tr>\n",
       "    <tr>\n",
       "      <th>2014</th>\n",
       "      <td>7</td>\n",
       "      <td>0</td>\n",
       "    </tr>\n",
       "    <tr>\n",
       "      <th>2015</th>\n",
       "      <td>1</td>\n",
       "      <td>0</td>\n",
       "    </tr>\n",
       "    <tr>\n",
       "      <th>2016</th>\n",
       "      <td>20</td>\n",
       "      <td>10</td>\n",
       "    </tr>\n",
       "    <tr>\n",
       "      <th>2017</th>\n",
       "      <td>11</td>\n",
       "      <td>0</td>\n",
       "    </tr>\n",
       "  </tbody>\n",
       "</table>\n",
       "</div>"
      ],
      "text/plain": [
       "      Cantidad anual  Porcentaje de juegos que son gratis\n",
       "2003               2                                    0\n",
       "2004               1                                    0\n",
       "2005               1                                    0\n",
       "2007               2                                    0\n",
       "2010               1                                    0\n",
       "2014               7                                    0\n",
       "2015               1                                    0\n",
       "2016              20                                   10\n",
       "2017              11                                    0"
      ]
     },
     "execution_count": 7,
     "metadata": {},
     "output_type": "execute_result"
    }
   ],
   "source": [
    "developer('Ubisoft')"
   ]
  },
  {
   "cell_type": "code",
   "execution_count": null,
   "metadata": {},
   "outputs": [],
   "source": []
  },
  {
   "cell_type": "code",
   "execution_count": 8,
   "metadata": {},
   "outputs": [],
   "source": [
    "# FUNCION USERDATA\n",
    "\n",
    "# Debe devolver cantidad de dinero gastado por el usuario, el porcentaje de recomendación en base a reviews_recommend y cantidad de items consumidos.\n",
    "\n",
    "def userdata(user_id):\n",
    "    # Filtramos por usuario\n",
    "    usuario = df_reviews[df_reviews['user_id'] == user_id]\n",
    "    # Calculamos cantidad de dinero gastado por ese usuario\n",
    "    cantidad_dinero = df_gastos_items[df_gastos_items['user_id'] == user_id]['price'].iloc[0]\n",
    "    # Buscamos la cantidad de items para el usuario\n",
    "    count_items = df_gastos_items[df_gastos_items['user_id'] == user_id]['items_count'].iloc[0]\n",
    "\n",
    "    # Total de recomendaciones del usuario\n",
    "    total_recomendaciones = usuario['reviews_recommend'].sum()\n",
    "    # Total de reviews por todos los usuarios\n",
    "    total_reviews = len(df_reviews['user_id'].unique())\n",
    "    # porcentaje de recomendaciones \n",
    "    porcentaje_recomendaciones = (total_recomendaciones/total_reviews)*100\n",
    "\n",
    "    #algunos valores pueden ser nulo, por lo que la api no los reconoce y no corre las instrucciones, por lo que agregamos un condicional para count_items\n",
    "    count_items = count_items if not pd.isnull(count_items) else 0\n",
    "\n",
    "    return {'usuario': user_id,\n",
    "            'cantidad_dinero': cantidad_dinero,\n",
    "            'porcentaje_recomendacion': round(porcentaje_recomendaciones,2),\n",
    "            'cantidad_de_items': count_items.astype(int)}"
   ]
  },
  {
   "cell_type": "code",
   "execution_count": 9,
   "metadata": {},
   "outputs": [
    {
     "data": {
      "text/plain": [
       "{'usuario': '--ace--',\n",
       " 'cantidad_dinero': 166.82,\n",
       " 'porcentaje_recomendacion': 0.0,\n",
       " 'cantidad_de_items': 44}"
      ]
     },
     "execution_count": 9,
     "metadata": {},
     "output_type": "execute_result"
    }
   ],
   "source": [
    "userdata('--ace--')"
   ]
  },
  {
   "cell_type": "code",
   "execution_count": null,
   "metadata": {},
   "outputs": [],
   "source": []
  },
  {
   "cell_type": "code",
   "execution_count": 10,
   "metadata": {},
   "outputs": [],
   "source": [
    "#FUNCION USERFORGENRE\n",
    "\n",
    "# Debe devolver el usuario que acumula más horas jugadas para el género dado y una lista de la acumulación de horas jugadas por año de lanzamiento.\n",
    "\n",
    "def UserForGenre(genre):\n",
    "    # Filtra el dataframe por el género de interés\n",
    "    data_por_genero = df_playtime_forever[df_playtime_forever['genres'] == genre]\n",
    "    # Agrupa el dataframe y suma la cantidad de horas jugadas\n",
    "    top_user = data_por_genero.groupby('user_id')['playtime_horas'].sum().reset_index().iloc[0].to_dict()\n",
    "    \n",
    "    return top_user"
   ]
  },
  {
   "cell_type": "code",
   "execution_count": 12,
   "metadata": {},
   "outputs": [
    {
     "data": {
      "text/plain": [
       "{'user_id': '--000--', 'playtime_horas': 203.63333333333333}"
      ]
     },
     "execution_count": 12,
     "metadata": {},
     "output_type": "execute_result"
    }
   ],
   "source": [
    "UserForGenre('Indie')"
   ]
  },
  {
   "cell_type": "code",
   "execution_count": null,
   "metadata": {},
   "outputs": [],
   "source": []
  },
  {
   "cell_type": "code",
   "execution_count": 13,
   "metadata": {},
   "outputs": [],
   "source": [
    "# FUNCION BESTDEVELOPERYEAR\n",
    "\n",
    "# Devuelve el top 3 de desarrolladores con juegos MÁS recomendados por usuarios para el año dado (reviews.recommend = True y comentarios positivos)\n",
    "\n",
    "def best_developer_year(year): \n",
    "    # filtramos por año\n",
    "    año_seleccionado = dfdesarrolladores_recomendados[dfdesarrolladores_recomendados['anio_lanzamiento'] == year]\n",
    "    # seleccionamos solo recomendaciones y sentimiento positivo\n",
    "    recomendados_positivos = año_seleccionado[(año_seleccionado['reviews_recommend'] == True) & (año_seleccionado['sentiment_analysis'] == 2)]\n",
    "    # agrupamos por desarrollador y calculamos la cantidad de sentimientos positivos y recomendaciones\n",
    "    agrupado = recomendados_positivos.groupby('developer')[['reviews_recommend', 'sentiment_analysis']].count()\n",
    "    # creamos una nueva columna para calcular la sumatoria total de estas variables\n",
    "    agrupado['suma'] = agrupado['reviews_recommend'] + agrupado['sentiment_analysis']\n",
    "\n",
    "    top3 = agrupado['suma'].sort_values(ascending=False).nlargest(3).to_dict()\n",
    "\n",
    "    return top3"
   ]
  },
  {
   "cell_type": "code",
   "execution_count": 14,
   "metadata": {},
   "outputs": [
    {
     "data": {
      "text/plain": [
       "{'Valve': 454, 'Tripwire Interactive': 196, 'Infinity Ward,Aspyr (Mac)': 70}"
      ]
     },
     "execution_count": 14,
     "metadata": {},
     "output_type": "execute_result"
    }
   ],
   "source": [
    "best_developer_year('2009')"
   ]
  },
  {
   "cell_type": "code",
   "execution_count": null,
   "metadata": {},
   "outputs": [],
   "source": []
  },
  {
   "cell_type": "code",
   "execution_count": 15,
   "metadata": {},
   "outputs": [],
   "source": [
    "# FUNCION DEVELOPER_REVIEWS_ANALYSIS \n",
    "\n",
    "# Según el desarrollador, se devuelve un diccionario con el nombre del desarrollador como llave y una lista con la cantidad total de registros de reseñas de usuarios que se encuentren categorizados con un análisis de sentimiento como valor positivo o negativo.\n",
    "\n",
    "def developer_reviews_analysis(desarrollador): \n",
    "    # filtro por desarrollador\n",
    "    filtro_desarrollador = dfdesarrolladores_recomendados[dfdesarrolladores_recomendados['developer'] == desarrollador]\n",
    "    \n",
    "    sentimientos_positivos = filtro_desarrollador[filtro_desarrollador['sentiment_analysis'] == 2]['sentiment_analysis'].count()\n",
    "    \n",
    "    sentimientos_negativos = filtro_desarrollador[filtro_desarrollador['sentiment_analysis'] == 0]['sentiment_analysis'].count()\n",
    "\n",
    "    diccionario = {'Desarrollador': desarrollador,\n",
    "                   'Positivos': int(sentimientos_positivos),\n",
    "                   'Negativos': int(sentimientos_negativos)}\n",
    "\n",
    "    return diccionario"
   ]
  },
  {
   "cell_type": "code",
   "execution_count": 17,
   "metadata": {},
   "outputs": [
    {
     "data": {
      "text/plain": [
       "{'Valve': [{'Positivos': 3223, 'Negativos': 711}]}"
      ]
     },
     "execution_count": 17,
     "metadata": {},
     "output_type": "execute_result"
    }
   ],
   "source": [
    "developer_reviews_analysis('Valve')"
   ]
  }
 ],
 "metadata": {
  "kernelspec": {
   "display_name": ".venv",
   "language": "python",
   "name": "python3"
  },
  "language_info": {
   "codemirror_mode": {
    "name": "ipython",
    "version": 3
   },
   "file_extension": ".py",
   "mimetype": "text/x-python",
   "name": "python",
   "nbconvert_exporter": "python",
   "pygments_lexer": "ipython3",
   "version": "3.11.2"
  }
 },
 "nbformat": 4,
 "nbformat_minor": 2
}
